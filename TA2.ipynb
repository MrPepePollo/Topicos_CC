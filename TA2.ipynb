{
 "cells": [
  {
   "cell_type": "code",
   "id": "initial_id",
   "metadata": {
    "collapsed": true,
    "ExecuteTime": {
     "end_time": "2024-04-24T22:34:09.715115Z",
     "start_time": "2024-04-24T22:34:09.712734Z"
    }
   },
   "source": [
    "from ortools.sat.python import cp_model\n",
    "import math"
   ],
   "outputs": [],
   "execution_count": 38
  },
  {
   "metadata": {
    "ExecuteTime": {
     "end_time": "2024-04-24T23:56:50.388986Z",
     "start_time": "2024-04-24T23:56:50.377976Z"
    }
   },
   "cell_type": "code",
   "source": [
    "\n",
    "hospitals = [\n",
    "    {\"name\": \"Hospital A\", \"location\": (34.0522, -118.2437)},  # Los Angeles\n",
    "    {\"name\": \"Hospital B\", \"location\": (37.7749, -122.4194)},  # San Francisco\n",
    "    {\"name\": \"Hospital C\", \"location\": (36.1699, -115.1398)},  # Las Vegas\n",
    "]\n",
    "\n",
    "beds_per_hospital = [10, 15, 8]  \n",
    "\n",
    "patients = [\n",
    "    {\"id\": 1, \"location\": (34.0522, -118.2437), \"severity\": 4},  # Los Angeles\n",
    "    {\"id\": 2, \"location\": (37.7749, -122.4194), \"severity\": 3},  # San Francisco\n",
    "    {\"id\": 3, \"location\": (36.1699, -115.1398), \"severity\": 2},  # Las Vegas\n",
    "    {\"id\": 4, \"location\": (34.0522, -118.2437), \"severity\": 5},  # Los Angeles\n",
    "]\n",
    "\n",
    "model = cp_model.CpModel()\n",
    "\n",
    "x = {}\n",
    "for i in range(len(hospitals)):\n",
    "    for k in range(len(patients)):\n",
    "        x[(i, k)] = model.NewBoolVar(f\"x_{i}_{k}\")\n",
    "\n",
    "# Restricciones\n",
    "# Cada paciente debe ser asignado a un solo hospital\n",
    "for k in range(len(patients)):\n",
    "    model.Add(sum(x[(i, k)] for i in range(len(hospitals))) == 1)\n",
    "\n",
    "# Cada hospital solo puede tener tantos pacientes como camas disponibles\n",
    "for i in range(len(hospitals)):\n",
    "    model.Add(sum(x[(i, k)] for k in range(len(patients))) <= beds_per_hospital[i])\n",
    "\n",
    "# Asignar al paciente al hospital mas cercano en base a distancias euclidianas\n",
    "distances = []\n",
    "for i in range(len(hospitals)):\n",
    "    hospital_loc = hospitals[i][\"location\"]\n",
    "    for k in range(len(patients)):\n",
    "        patient_loc = patients[k][\"location\"]\n",
    "        distance = math.sqrt(\n",
    "            (hospital_loc[0] - patient_loc[0]) ** 2 + (hospital_loc[1] - patient_loc[1]) ** 2\n",
    "        )\n",
    "        distances.append(distance * x[(i, k)])\n",
    "\n",
    "\n",
    "model.Minimize(sum(distances))\n",
    "\n",
    "solver = cp_model.CpSolver()\n",
    "status = solver.Solve(model)\n",
    "\n",
    "if status == cp_model.OPTIMAL or cp_model.FEASIBLE:\n",
    "    print(\"Solucion encontrada\")\n",
    "    assigned_patients = []\n",
    "\n",
    "    for i in range(len(hospitals)):\n",
    "        hospital_name = hospitals[i][\"name\"]\n",
    "        for k in range(len(patients)):\n",
    "            if solver.Value(x[(i, k)]) == 1:\n",
    "                assigned_patients.append(patients[k][\"id\"])\n",
    "                patient_id = patients[k][\"id\"]\n",
    "                print(f\"El paciente {patient_id} esta asignado al hospital {hospital_name}\")\n",
    "\n",
    "    patients_without_assignment = [\n",
    "        patients[k][\"id\"] for k in range(len(patients))\n",
    "        if patients[k][\"id\"] not in assigned_patients\n",
    "    ]\n",
    "\n",
    "    if patients_without_assignment:\n",
    "        print(\"Pacientes sin asignacion:\")\n",
    "        for patient in patients_without_assignment:\n",
    "            print(f\"Paciente {patient}\")\n",
    "\n",
    "else:\n",
    "    print(\"No se encontro alguna solucion\")\n",
    "\n",
    "\n",
    "\n"
   ],
   "id": "71b12c3272345cf6",
   "outputs": [
    {
     "name": "stdout",
     "output_type": "stream",
     "text": [
      "¡Solución encontrada!\n",
      "El paciente 1 está asignado al hospital Hospital A\n",
      "El paciente 4 está asignado al hospital Hospital A\n",
      "El paciente 2 está asignado al hospital Hospital B\n",
      "El paciente 3 está asignado al hospital Hospital C\n"
     ]
    }
   ],
   "execution_count": 61
  }
 ],
 "metadata": {
  "kernelspec": {
   "display_name": "Python 3",
   "language": "python",
   "name": "python3"
  },
  "language_info": {
   "codemirror_mode": {
    "name": "ipython",
    "version": 2
   },
   "file_extension": ".py",
   "mimetype": "text/x-python",
   "name": "python",
   "nbconvert_exporter": "python",
   "pygments_lexer": "ipython2",
   "version": "2.7.6"
  }
 },
 "nbformat": 4,
 "nbformat_minor": 5
}
